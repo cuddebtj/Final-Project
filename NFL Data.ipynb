{
 "cells": [
  {
   "cell_type": "code",
   "execution_count": 32,
   "metadata": {},
   "outputs": [],
   "source": [
    "import pandas as pd"
   ]
  },
  {
   "cell_type": "code",
   "execution_count": null,
   "metadata": {},
   "outputs": [],
   "source": []
  },
  {
   "cell_type": "code",
   "execution_count": null,
   "metadata": {},
   "outputs": [],
   "source": []
  },
  {
   "cell_type": "code",
   "execution_count": 33,
   "metadata": {},
   "outputs": [],
   "source": [
    "df = pd.read_csv('nfldata.csv')"
   ]
  },
  {
   "cell_type": "code",
   "execution_count": 36,
   "metadata": {
    "scrolled": true
   },
   "outputs": [],
   "source": [
    "#cleaning data for evaluation\n",
    "\n",
    "nfl_data = df.drop(columns = ['Rnk','Lg','Fmb_Yds','Fmb_Rec','Fmb_Forc','Fmb','P_Ret_Yds_Ret','P_Ret_Yds','P_Ret','K_Yds_Ret_Att','K_Yds','K_Ret_Att'],axis=0)\n",
    "nfl_data.dropna(subset=['Player'],inplace=True)\n",
    "nfl_data['Away'].fillna('False',inplace=True)\n",
    "nfl_data['Away'].replace(['@'],'True',inplace=True)\n",
    "nfl_data.fillna(0,inplace=True)"
   ]
  },
  {
   "cell_type": "code",
   "execution_count": 39,
   "metadata": {},
   "outputs": [],
   "source": [
    "#add fantasy score totals based off league info\n",
    "nfl_data['Fantasy_Pts'] = (nfl_data['Pass_Yds']/25)+(nfl_data['Pass_TD']*4)+(nfl_data['Pass_INT']*-1)+(nfl_data['Rush_Yds']/10)+(nfl_data['Rush_TD']*6)+(nfl_data['Rec_Rec']*0.5)+(nfl_data['Rec_Yds']/10)+(nfl_data['Rec_TD']*6)+(nfl_data['K_Ret_TD']*6)+(nfl_data['P_Ret_TD']*6)+(nfl_data['Fmb_L']*-2)+(nfl_data['Fmb_TD']*6)"
   ]
  },
  {
   "cell_type": "code",
   "execution_count": 86,
   "metadata": {},
   "outputs": [],
   "source": [
    "nfl_data.drop(nfl_data[nfl_data['Pos']=='CB'].index,inplace=True)"
   ]
  },
  {
   "cell_type": "code",
   "execution_count": null,
   "metadata": {},
   "outputs": [],
   "source": []
  },
  {
   "cell_type": "code",
   "execution_count": 88,
   "metadata": {},
   "outputs": [
    {
     "data": {
      "text/plain": [
       "array(['QB', 'WR', 'RB', 'TE', 'FB', 'WR ', 'WR/P', 'FB/TE', 'T', 'RT',\n",
       "       'RG', 'G', 'OL', 'LT', 'S', 'DT', 'C', 'F', 'TB', 'P', 'HB',\n",
       "       'FB-T', 'WR/PR', 'FB/RB', 'FB/R', 'TE/F', 'TE-F', 'LS', 'NT',\n",
       "       'H-B', 'FB/T', 'MIKE', 'KR', 'G/T', 'DE', 'TE/D', '0', 'WR/R',\n",
       "       'OT', 'C/G', 'WC', 'DB', 'LB', 'K', 'WR-K', 'G-C', 'WR/RS', 'LDT',\n",
       "       'TE/L', 'G/OT', 'WR-R', 'RB/K', 'T/G', 'HB/F', 'G/C', 'OS', 'PR/W',\n",
       "       'TE/W', 'DL', 'FB/DL', 'WR W', 'OW', 'WR/K', 'QB/W', 'QB-W',\n",
       "       'RB/F', 'T/C'], dtype=object)"
      ]
     },
     "execution_count": 88,
     "metadata": {},
     "output_type": "execute_result"
    }
   ],
   "source": [
    "nfl_data.Pos.unique()"
   ]
  },
  {
   "cell_type": "code",
   "execution_count": null,
   "metadata": {},
   "outputs": [],
   "source": []
  },
  {
   "cell_type": "code",
   "execution_count": null,
   "metadata": {},
   "outputs": [],
   "source": []
  },
  {
   "cell_type": "code",
   "execution_count": null,
   "metadata": {},
   "outputs": [],
   "source": []
  },
  {
   "cell_type": "code",
   "execution_count": null,
   "metadata": {},
   "outputs": [],
   "source": []
  },
  {
   "cell_type": "code",
   "execution_count": null,
   "metadata": {},
   "outputs": [],
   "source": []
  },
  {
   "cell_type": "code",
   "execution_count": null,
   "metadata": {},
   "outputs": [],
   "source": []
  },
  {
   "cell_type": "code",
   "execution_count": null,
   "metadata": {},
   "outputs": [],
   "source": []
  },
  {
   "cell_type": "code",
   "execution_count": null,
   "metadata": {},
   "outputs": [],
   "source": []
  },
  {
   "cell_type": "code",
   "execution_count": null,
   "metadata": {},
   "outputs": [],
   "source": []
  },
  {
   "cell_type": "code",
   "execution_count": null,
   "metadata": {},
   "outputs": [],
   "source": []
  },
  {
   "cell_type": "code",
   "execution_count": null,
   "metadata": {},
   "outputs": [],
   "source": []
  },
  {
   "cell_type": "code",
   "execution_count": null,
   "metadata": {},
   "outputs": [],
   "source": []
  }
 ],
 "metadata": {
  "kernelspec": {
   "display_name": "Python 3",
   "language": "python",
   "name": "python3"
  },
  "language_info": {
   "codemirror_mode": {
    "name": "ipython",
    "version": 3
   },
   "file_extension": ".py",
   "mimetype": "text/x-python",
   "name": "python",
   "nbconvert_exporter": "python",
   "pygments_lexer": "ipython3",
   "version": "3.7.6"
  }
 },
 "nbformat": 4,
 "nbformat_minor": 4
}
