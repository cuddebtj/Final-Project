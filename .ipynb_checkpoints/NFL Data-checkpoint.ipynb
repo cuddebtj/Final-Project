{
 "cells": [
  {
   "cell_type": "code",
   "execution_count": null,
   "metadata": {},
   "outputs": [],
   "source": [
    "import pandas as pd"
   ]
  },
  {
   "cell_type": "code",
   "execution_count": null,
   "metadata": {},
   "outputs": [],
   "source": [
    "from matplotlib import pyplot as plt"
   ]
  },
  {
   "cell_type": "code",
   "execution_count": null,
   "metadata": {},
   "outputs": [],
   "source": [
    "df = pd.read_csv('nfldata.csv')"
   ]
  },
  {
   "cell_type": "code",
   "execution_count": null,
   "metadata": {
    "scrolled": false
   },
   "outputs": [],
   "source": [
    "#cleaning data for evaluation\n",
    "\n",
    "nfl_data = df.drop(columns = ['Rnk','Lg','Result','Pass_Comp','Comp_Perc','Pass_Rt','Sacks_Given','Sack_Yds','Yds_Gained_Att','Adj_Yds_Gained_Att','Rush_Yds_Att','Rec_Yds_Rec','Rec_Catch_Perc','Rec_Yds_Tgt','K_Ret_Att','K_Yds','K_Yds_Ret_Att','P_Ret','P_Ret_Yds','P_Ret_Yds_Ret','Fmb_Forc','Fmb','Fmb_Rec','Fmb_Yds'])\n",
    "nfl_data['Player'] = nfl_data['Player'].str.rstrip('*')\n",
    "nfl_data['Player'] = nfl_data['Player'].str.rstrip(' ')\n",
    "nfl_data['Player'] = nfl_data['Player'].str.lower()\n",
    "nfl_data = nfl_data.dropna(subset=['Player'])\n",
    "nfl_data ['Away'] = nfl_data['Away'].fillna('False')\n",
    "nfl_data ['Away'] = nfl_data['Away'].replace(['@'],'True')\n",
    "nfl_data ['Pos'] = nfl_data['Pos'].replace(['LG','T','RT','RG','G','OL','LT','S','DT','C','CB','LS','NT','MIKE','G/T','DE','OT','C/G','DB','LB','G-C','LDT','G/OT','T/G','G/C','OS','DL','LOT','T/C','0'],'Delete')\n",
    "nfl_data ['Pos'] = nfl_data['Pos'].replace(['FB','TB','HB','FB-T','FB/RB','FB/R','H-B','FB/T','HB/F','FB/DL','RB/F','RB/K','OW','Rb'],'RB')\n",
    "nfl_data ['Pos'] = nfl_data['Pos'].replace(['WR ','WR/P','WR/PR','KR','WR/R','WR-K','WR/RS','WR-R','PR/W','WR W','WR/K','WC','K','P'],'WR')\n",
    "nfl_data ['Pos'] = nfl_data['Pos'].replace(['FB/TE','F','TE/F','TE-F','TE/D','TE/L','TE/W'],'TE')\n",
    "nfl_data ['Pos'] = nfl_data['Pos'].replace(['QB/W','QB-W'],'QB')\n",
    "nfl_data = nfl_data.drop(nfl_data[nfl_data['Pos']=='Delete'].index)\n",
    "nfl_data = nfl_data.fillna(0)\n",
    "#list(nfl_data.columns)"
   ]
  },
  {
   "cell_type": "code",
   "execution_count": null,
   "metadata": {},
   "outputs": [],
   "source": [
    "#accept league scoring settings from user\n",
    "\n",
    "lg_pass_yds = int(input('1 point equals how many pass yards? '))\n",
    "lg_pass_tds = int(input('1 pass TD equals how many points? '))\n",
    "lg_int = int(input('1 INT equals how many points?'))\n",
    "lg_rush_yds = int(input('1 point equals how many rushing yards? '))\n",
    "lg_rush_tds = int(input('1 rushing TD equals how many points? '))\n",
    "lg_rec_rec = int(input('1 point is equal to how many receptions? '))\n",
    "lg_rec_yds = int(input('1 point equals how many receiving yards? '))\n",
    "lg_rec_tds = int(input('1 receiving TD equals how many points? '))\n",
    "lg_spec_tds = int(input('1 special teams TD equals how many points? '))\n",
    "lg_fmb = int(input('1 fumble equals how many points? '))"
   ]
  },
  {
   "cell_type": "code",
   "execution_count": null,
   "metadata": {
    "scrolled": false
   },
   "outputs": [],
   "source": [
    "#add fantasy score totals based off league info\n",
    "\n",
    "nfl_data['Pass_Yds_Pts'] = nfl_data['Pass_Yds'].apply(lambda x: x/lg_pass_yds)\n",
    "nfl_data['Pass_TD_Pts'] = nfl_data['Pass_TD'].apply(lambda x: x*lg_pass_tds)\n",
    "nfl_data['Pass_INT_Pts'] = nfl_data['Pass_INT'].apply(lambda x: x*lg_int)\n",
    "nfl_data['Rush_Yds_Pts'] = nfl_data['Rush_Yds'].apply(lambda x: x/lg_rush_yds)\n",
    "nfl_data['Rush_TD_Pts'] = nfl_data['Rush_TD'].apply(lambda x: x*lg_rush_tds)\n",
    "nfl_data['Rec_Rec_Pts'] = nfl_data['Rec_Rec'].apply(lambda x: x/lg_rec_rec)\n",
    "nfl_data['Rec_Yds_Pts'] = nfl_data['Rec_Yds'].apply(lambda x: x/lg_rec_yds)\n",
    "nfl_data['Rec_TD_Pts'] = nfl_data['Rec_TD'].apply(lambda x: x*lg_rec_tds)\n",
    "nfl_data['K_Ret_TD_Pts'] = nfl_data['K_Ret_TD'].apply(lambda x: x*lg_spec_tds)\n",
    "nfl_data['P_Ret_TD_Pts'] = nfl_data['P_Ret_TD'].apply(lambda x: x*lg_spec_tds)\n",
    "nfl_data['Fmb_L_Pts'] = nfl_data['Fmb_L'].apply(lambda x: x*lg_fmb)\n",
    "nfl_data['Fmb_TD_Pts'] = nfl_data['Fmb_TD'].apply(lambda x: x*lg_spec_tds)\n",
    "\n",
    "nfl_data['Fantasy_Pts_Total'] = nfl_data['Pass_Yds_Pts']+nfl_data['Pass_TD_Pts']+nfl_data['Pass_INT_Pts']+nfl_data['Rush_Yds_Pts']+nfl_data['Rush_TD_Pts']+nfl_data['Rec_Rec_Pts']+nfl_data['Rec_Yds_Pts']+nfl_data['Rec_TD_Pts']+nfl_data['K_Ret_TD_Pts']+nfl_data['P_Ret_TD_Pts']+nfl_data['Fmb_L_Pts']+nfl_data['Fmb_TD_Pts']"
   ]
  },
  {
   "cell_type": "code",
   "execution_count": null,
   "metadata": {},
   "outputs": [],
   "source": [
    "#making some values integeres as they cannot be floats\n",
    "nfl_data = nfl_data.astype({'Game_Num':'int64','Week':'int64','Pass_Att':'int64','Pass_TD':'int64','Pass_Yds':'int64','Pass_INT':'int64','Rush_Att':'int64','Rush_Yds':'int64','Rush_TD':'int64','Rec_Tgt':'int64','Rec_Rec':'int64','Rec_Yds':'int64','Rec_TD':'int64','K_Ret_TD':'int64','P_Ret_TD':'int64','Fmb_L':'int64','Fmb_TD':'int64'})"
   ]
  },
  {
   "cell_type": "code",
   "execution_count": null,
   "metadata": {},
   "outputs": [],
   "source": [
    "#Choose how to filter the NFL data\n",
    "filter_pass_att = int(input('Filter by how many pass attempts minimum? '))\n",
    "filter_rush_att = int(input('Filter by how many rush attempts minimum? '))\n",
    "filter_rec_tgt = int(input('Filter by how many receiving targets minimum? '))"
   ]
  },
  {
   "cell_type": "code",
   "execution_count": null,
   "metadata": {},
   "outputs": [],
   "source": [
    "#Filter out pass attempts or rush attempts or receiving targets lower than X\n",
    "nfl_data = nfl_data.query(f'Pass_Att >= {filter_pass_att} or Rush_Att >= {filter_rush_att} or Rec_Tgt>= {filter_rec_tgt}')"
   ]
  },
  {
   "cell_type": "code",
   "execution_count": null,
   "metadata": {},
   "outputs": [],
   "source": [
    "#define x axis\n",
    "nfl_week = nfl_data.Week.unique()\n",
    "nfl_day = nfl_data.Day.unique()\n",
    "nfl_pos = nfl_data.Pos.unique()\n",
    "nfl_opp = nfl_data.Opp.unique()\n",
    "nfl_week.sort()\n",
    "nfl_day.sort()\n",
    "nfl_pos.sort()\n",
    "nfl_opp.sort()"
   ]
  },
  {
   "cell_type": "code",
   "execution_count": null,
   "metadata": {},
   "outputs": [],
   "source": [
    "#define y axis"
   ]
  },
  {
   "cell_type": "code",
   "execution_count": null,
   "metadata": {},
   "outputs": [],
   "source": [
    "#grouping data for plotting\n",
    "nfl_week_avg = nfl_data.groupby('Week')['Fantasy_Pts_Total'].mean()\n",
    "nfl_pos_avg = nfl_data.groupby('Pos')['Fantasy_Pts_Total'].mean()\n",
    "nfl_player_avg = nfl_data.groupby('Player')['Fantasy_Pts_Total'].mean()\n",
    "nfl_day_avg = nfl_data.groupby('Day')['Fantasy_Pts_Total'].mean()"
   ]
  },
  {
   "cell_type": "code",
   "execution_count": null,
   "metadata": {},
   "outputs": [],
   "source": [
    "#grouping data for plotting\n",
    "nfl_week_std = nfl_data.groupby('Week')['Fantasy_Pts_Total'].std()\n",
    "nfl_pos_std = nfl_data.groupby('Pos')['Fantasy_Pts_Total'].std()\n",
    "nfl_player_std = nfl_data.groupby('Player')['Fantasy_Pts_Total'].std()\n",
    "nfl_day_std = nfl_data.groupby('Day')['Fantasy_Pts_Total'].std()"
   ]
  },
  {
   "cell_type": "code",
   "execution_count": null,
   "metadata": {},
   "outputs": [],
   "source": [
    "#grouping data for plotting\n",
    "nfl_pos_week_avg = nfl_data.groupby(['Pos','Week'])['Fantasy_Pts_Total'].mean()\n",
    "nfl_player_week_avg = nfl_data.groupby(['Player','Week'])['Fantasy_Pts_Total'].mean()\n",
    "nfl_player_day_avg = nfl_data.groupby(['Player','Day'])['Fantasy_Pts_Total'].mean()\n",
    "nfl_player_opp_avg = nfl_data.groupby(['Player','Opp'])['Fantasy_Pts_Total'].mean()\n",
    "nfl_pos_week_std = nfl_data.groupby(['Pos','Week'])['Fantasy_Pts_Total'].std()\n",
    "nfl_player_week_std = nfl_data.groupby(['Player','Week'])['Fantasy_Pts_Total'].std()\n",
    "nfl_player_day_std = nfl_data.groupby(['Player','Day'])['Fantasy_Pts_Total'].std()\n",
    "nfl_player_opp_std = nfl_data.groupby(['Player','Opp'])['Fantasy_Pts_Total'].std()"
   ]
  },
  {
   "cell_type": "code",
   "execution_count": null,
   "metadata": {
    "scrolled": true
   },
   "outputs": [],
   "source": [
    "fig1, ax1 = plt.subplots()\n",
    "ax1.bar(nfl_pos,nfl_pos_avg,yerr=nfl_pos_std,align='center',color =['red','blue','green','orange'],ecolor='black',capsize=10)\n",
    "ax1.set_ylabel('Average Fantasy Pts')\n",
    "ax1.set_xticks(nfl_pos)\n",
    "ax1.set_xticklabels(nfl_pos)\n",
    "ax1.set_xlabel('NFL Position')\n",
    "ax1.set_title('Average Fantasy Pts per Week by Position')\n",
    "ax1.yaxis.grid(True)\n",
    "\n",
    "plt.tight_layout()\n",
    "plt.show()"
   ]
  },
  {
   "cell_type": "code",
   "execution_count": null,
   "metadata": {
    "scrolled": true
   },
   "outputs": [],
   "source": [
    "plt.plot(nfl_week_avg,'r')\n",
    "plt.ylabel('Average Fantasy Pts')\n",
    "plt.xlabel('NFL Week')\n",
    "plt.xticks(nfl_week)\n",
    "plt.ylim(0,15)\n",
    "plt.title('Average Fantasy Pts per Week by Week')\n",
    "\n",
    "plt.tight_layout()\n",
    "plt.show()"
   ]
  },
  {
   "cell_type": "code",
   "execution_count": null,
   "metadata": {},
   "outputs": [],
   "source": [
    "plt.plot(nfl_day_avg,'r')\n",
    "plt.ylabel('Average Fantasy Pts')\n",
    "plt.xlabel('NFL Week')\n",
    "plt.xticks(nfl_day)\n",
    "plt.ylim(0,15)\n",
    "plt.title('Average Fantasy Pts per Week by Week')\n",
    "\n",
    "plt.tight_layout()\n",
    "plt.show()"
   ]
  },
  {
   "cell_type": "code",
   "execution_count": null,
   "metadata": {},
   "outputs": [],
   "source": [
    "player1 = str(input(\"Enter a NFL Player from 2010 to 2019: \"))"
   ]
  },
  {
   "cell_type": "code",
   "execution_count": null,
   "metadata": {},
   "outputs": [],
   "source": [
    "x = nfl_week\n",
    "y = nfl_player_week_avg[player1.lower()][0:17].round(2)\n",
    "std = nfl_player_week_std[player1.lower()][0:17].round(2)\n",
    "\n",
    "fig2, ax2 = plt.subplots()\n",
    "ax2.bar(x,y,yerr=std,align='center',color='g',ecolor='black',capsize=10)\n",
    "ax2.set_ylabel('Average Fantasy Pts')\n",
    "ax2.set_xticks(x)\n",
    "ax2.set_xticklabels(x)\n",
    "ax2.set_xlabel('NFL Week')\n",
    "ax2.set_title(f'Average Fantasy Pts each Week by {player1}')\n",
    "ax2.yaxis.grid(True)\n",
    "\n",
    "plt.tight_layout()\n",
    "plt.show()"
   ]
  },
  {
   "cell_type": "code",
   "execution_count": null,
   "metadata": {},
   "outputs": [],
   "source": []
  },
  {
   "cell_type": "code",
   "execution_count": null,
   "metadata": {
    "scrolled": true
   },
   "outputs": [],
   "source": []
  },
  {
   "cell_type": "code",
   "execution_count": null,
   "metadata": {},
   "outputs": [],
   "source": []
  },
  {
   "cell_type": "code",
   "execution_count": null,
   "metadata": {},
   "outputs": [],
   "source": []
  },
  {
   "cell_type": "code",
   "execution_count": null,
   "metadata": {},
   "outputs": [],
   "source": []
  },
  {
   "cell_type": "code",
   "execution_count": null,
   "metadata": {},
   "outputs": [],
   "source": []
  },
  {
   "cell_type": "code",
   "execution_count": null,
   "metadata": {},
   "outputs": [],
   "source": []
  },
  {
   "cell_type": "code",
   "execution_count": null,
   "metadata": {},
   "outputs": [],
   "source": []
  },
  {
   "cell_type": "code",
   "execution_count": null,
   "metadata": {},
   "outputs": [],
   "source": []
  },
  {
   "cell_type": "code",
   "execution_count": null,
   "metadata": {},
   "outputs": [],
   "source": []
  }
 ],
 "metadata": {
  "kernelspec": {
   "display_name": "Python 3",
   "language": "python",
   "name": "python3"
  },
  "language_info": {
   "codemirror_mode": {
    "name": "ipython",
    "version": 3
   },
   "file_extension": ".py",
   "mimetype": "text/x-python",
   "name": "python",
   "nbconvert_exporter": "python",
   "pygments_lexer": "ipython3",
   "version": "3.7.6"
  }
 },
 "nbformat": 4,
 "nbformat_minor": 4
}
