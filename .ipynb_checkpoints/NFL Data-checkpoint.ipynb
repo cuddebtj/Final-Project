{
 "cells": [
  {
   "cell_type": "code",
   "execution_count": 1,
   "metadata": {},
   "outputs": [],
   "source": [
    "import pandas as pd"
   ]
  },
  {
   "cell_type": "code",
   "execution_count": null,
   "metadata": {},
   "outputs": [],
   "source": []
  },
  {
   "cell_type": "code",
   "execution_count": null,
   "metadata": {},
   "outputs": [],
   "source": []
  },
  {
   "cell_type": "code",
   "execution_count": 2,
   "metadata": {},
   "outputs": [],
   "source": [
    "df = pd.read_csv('nfldata.csv')"
   ]
  },
  {
   "cell_type": "code",
   "execution_count": 3,
   "metadata": {
    "scrolled": true
   },
   "outputs": [],
   "source": [
    "#cleaning data for evaluation\n",
    "\n",
    "nfl_data = df.drop(columns = ['Rnk','Lg','Fmb_Yds','Fmb_Rec','Fmb_Forc','Fmb','P_Ret_Yds_Ret','P_Ret_Yds','P_Ret','K_Yds_Ret_Att','K_Yds','K_Ret_Att'])\n",
    "nfl_data.dropna(subset=['Player'],inplace=True)\n",
    "nfl_data['Away'].fillna('False',inplace=True)\n",
    "nfl_data['Away'].replace(['@'],'True',inplace=True)\n",
    "nfl_data['Pos'].replace(['LG','T','RT','RG','G','OL','LT','S','DT','C','CB','LS','NT','MIKE','G/T','DE','OT','C/G','DB','LB','G-C','LDT','G/OT','T/G','G/C','OS','DL','LOT','T/C','0'],'Delete',inplace=True)\n",
    "nfl_data['Pos'].replace(['FB','TB','HB','FB-T','FB/RB','FB/R','H-B','FB/T','HB/F','FB/DL','RB/F','RB/K','OW','Rb'],'RB', inplace=True)\n",
    "nfl_data['Pos'].replace(['WR ','WR/P','WR/PR','KR','WR/R','WR-K','WR/RS','WR-R','PR/W','WR W','WR/K','WC','K','P'],'WR',inplace=True)\n",
    "nfl_data['Pos'].replace(['FB/TE','F','TE/F','TE-F','TE/D','TE/L','TE/W'],'TE',inplace=True)\n",
    "nfl_data['Pos'].replace(['QB/W','QB-W'],'QB',inplace=True)\n",
    "nfl_data.drop(nfl_data[nfl_data['Pos']=='Delete'].index, inplace=True)\n",
    "nfl_data.fillna(0,inplace=True)"
   ]
  },
  {
   "cell_type": "code",
   "execution_count": 4,
   "metadata": {},
   "outputs": [],
   "source": [
    "#add fantasy score totals based off league info\n",
    "nfl_data['Fantasy_Pts'] = (nfl_data['Pass_Yds']/25)+(nfl_data['Pass_TD']*4)+(nfl_data['Pass_INT']*-1)+(nfl_data['Rush_Yds']/10)+(nfl_data['Rush_TD']*6)+(nfl_data['Rec_Rec']*0.5)+(nfl_data['Rec_Yds']/10)+(nfl_data['Rec_TD']*6)+(nfl_data['K_Ret_TD']*6)+(nfl_data['P_Ret_TD']*6)+(nfl_data['Fmb_L']*-2)+(nfl_data['Fmb_TD']*6)"
   ]
  },
  {
   "cell_type": "code",
   "execution_count": null,
   "metadata": {},
   "outputs": [],
   "source": []
  },
  {
   "cell_type": "code",
   "execution_count": null,
   "metadata": {},
   "outputs": [],
   "source": []
  },
  {
   "cell_type": "code",
   "execution_count": null,
   "metadata": {},
   "outputs": [],
   "source": []
  },
  {
   "cell_type": "code",
   "execution_count": null,
   "metadata": {},
   "outputs": [],
   "source": []
  },
  {
   "cell_type": "code",
   "execution_count": null,
   "metadata": {},
   "outputs": [],
   "source": []
  },
  {
   "cell_type": "code",
   "execution_count": null,
   "metadata": {},
   "outputs": [],
   "source": []
  },
  {
   "cell_type": "code",
   "execution_count": null,
   "metadata": {},
   "outputs": [],
   "source": []
  },
  {
   "cell_type": "code",
   "execution_count": null,
   "metadata": {},
   "outputs": [],
   "source": []
  },
  {
   "cell_type": "code",
   "execution_count": null,
   "metadata": {},
   "outputs": [],
   "source": []
  },
  {
   "cell_type": "code",
   "execution_count": null,
   "metadata": {},
   "outputs": [],
   "source": []
  },
  {
   "cell_type": "code",
   "execution_count": null,
   "metadata": {},
   "outputs": [],
   "source": []
  },
  {
   "cell_type": "code",
   "execution_count": null,
   "metadata": {},
   "outputs": [],
   "source": []
  },
  {
   "cell_type": "code",
   "execution_count": null,
   "metadata": {},
   "outputs": [],
   "source": []
  },
  {
   "cell_type": "code",
   "execution_count": null,
   "metadata": {},
   "outputs": [],
   "source": []
  },
  {
   "cell_type": "code",
   "execution_count": null,
   "metadata": {},
   "outputs": [],
   "source": []
  }
 ],
 "metadata": {
  "kernelspec": {
   "display_name": "Python 3",
   "language": "python",
   "name": "python3"
  },
  "language_info": {
   "codemirror_mode": {
    "name": "ipython",
    "version": 3
   },
   "file_extension": ".py",
   "mimetype": "text/x-python",
   "name": "python",
   "nbconvert_exporter": "python",
   "pygments_lexer": "ipython3",
   "version": "3.7.6"
  }
 },
 "nbformat": 4,
 "nbformat_minor": 4
}
