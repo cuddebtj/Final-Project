{
 "cells": [
  {
   "cell_type": "code",
   "execution_count": 1,
   "metadata": {},
   "outputs": [],
   "source": [
    "import pandas as pd"
   ]
  },
  {
   "cell_type": "code",
   "execution_count": 2,
   "metadata": {},
   "outputs": [],
   "source": [
    "from matplotlib import pyplot as plt"
   ]
  },
  {
   "cell_type": "code",
   "execution_count": null,
   "metadata": {},
   "outputs": [],
   "source": []
  },
  {
   "cell_type": "code",
   "execution_count": 3,
   "metadata": {},
   "outputs": [],
   "source": [
    "df = pd.read_csv('nfldata.csv')"
   ]
  },
  {
   "cell_type": "code",
   "execution_count": 4,
   "metadata": {
    "scrolled": false
   },
   "outputs": [
    {
     "data": {
      "text/plain": [
       "['Player',\n",
       " 'Pos',\n",
       " 'Age',\n",
       " 'Date_of_Gm',\n",
       " 'Tm',\n",
       " 'Away',\n",
       " 'Opp',\n",
       " 'Game_Num',\n",
       " 'Week',\n",
       " 'Day',\n",
       " 'Pass_Att',\n",
       " 'Pass_Yds',\n",
       " 'Pass_TD',\n",
       " 'Pass_INT',\n",
       " 'Rush_Att',\n",
       " 'Rush_Yds',\n",
       " 'Rush_TD',\n",
       " 'Rec_Tgt',\n",
       " 'Rec_Rec',\n",
       " 'Rec_Yds',\n",
       " 'Rec_TD',\n",
       " 'K_Ret_TD',\n",
       " 'P_Ret_TD',\n",
       " 'Fmb_L',\n",
       " 'Fmb_TD']"
      ]
     },
     "execution_count": 4,
     "metadata": {},
     "output_type": "execute_result"
    }
   ],
   "source": [
    "#cleaning data for evaluation\n",
    "\n",
    "nfl_data = df.drop(columns = ['Rnk','Lg','Result','Pass_Comp','Comp_Perc','Pass_Rt','Sacks_Given','Sack_Yds','Yds_Gained_Att','Adj_Yds_Gained_Att','Rush_Yds_Att','Rec_Yds_Rec','Rec_Catch_Perc','Rec_Yds_Tgt','K_Ret_Att','K_Yds','K_Yds_Ret_Att','P_Ret','P_Ret_Yds','P_Ret_Yds_Ret','Fmb_Forc','Fmb','Fmb_Rec','Fmb_Yds'])\n",
    "nfl_data['Player'] = nfl_data['Player'].str.rstrip('*')\n",
    "nfl_data['Player'] = nfl_data['Player'].str.rstrip(' ')\n",
    "nfl_data['Player'] = nfl_data['Player'].str.lower()\n",
    "nfl_data = nfl_data.dropna(subset=['Player'])\n",
    "nfl_data ['Away'] = nfl_data['Away'].fillna('False')\n",
    "nfl_data ['Away'] = nfl_data['Away'].replace(['@'],'True')\n",
    "nfl_data ['Pos'] = nfl_data['Pos'].replace(['LG','T','RT','RG','G','OL','LT','S','DT','C','CB','LS','NT','MIKE','G/T','DE','OT','C/G','DB','LB','G-C','LDT','G/OT','T/G','G/C','OS','DL','LOT','T/C','0'],'Delete')\n",
    "nfl_data ['Pos'] = nfl_data['Pos'].replace(['FB','TB','HB','FB-T','FB/RB','FB/R','H-B','FB/T','HB/F','FB/DL','RB/F','RB/K','OW','Rb'],'RB')\n",
    "nfl_data ['Pos'] = nfl_data['Pos'].replace(['WR ','WR/P','WR/PR','KR','WR/R','WR-K','WR/RS','WR-R','PR/W','WR W','WR/K','WC','K','P'],'WR')\n",
    "nfl_data ['Pos'] = nfl_data['Pos'].replace(['FB/TE','F','TE/F','TE-F','TE/D','TE/L','TE/W'],'TE')\n",
    "nfl_data ['Pos'] = nfl_data['Pos'].replace(['QB/W','QB-W'],'QB')\n",
    "nfl_data = nfl_data.drop(nfl_data[nfl_data['Pos']=='Delete'].index)\n",
    "nfl_data = nfl_data.fillna(0)\n",
    "list(nfl_data.columns)"
   ]
  },
  {
   "cell_type": "code",
   "execution_count": 5,
   "metadata": {
    "scrolled": false
   },
   "outputs": [],
   "source": [
    "#add fantasy score totals based off league info\n",
    "nfl_data['Fantasy_Pts'] = (nfl_data['Pass_Yds']/25)+(nfl_data['Pass_TD']*4)+(nfl_data['Pass_INT']*-1)+(nfl_data['Rush_Yds']/10)+(nfl_data['Rush_TD']*6)+(nfl_data['Rec_Rec']*0.5)+(nfl_data['Rec_Yds']/10)+(nfl_data['Rec_TD']*6)+(nfl_data['K_Ret_TD']*6)+(nfl_data['P_Ret_TD']*6)+(nfl_data['Fmb_L']*-2)+(nfl_data['Fmb_TD']*6)"
   ]
  },
  {
   "cell_type": "code",
   "execution_count": 6,
   "metadata": {},
   "outputs": [],
   "source": [
    "nfl_data = nfl_data.astype({'Game_Num':'int64','Week':'int64','Pass_Att':'int64','Pass_TD':'int64','Pass_Yds':'int64','Pass_INT':'int64','Rush_Att':'int64','Rush_Yds':'int64','Rush_TD':'int64','Rec_Tgt':'int64','Rec_Rec':'int64','Rec_Yds':'int64','Rec_TD':'int64','K_Ret_TD':'int64','P_Ret_TD':'int64','Fmb_L':'int64','Fmb_TD':'int64'})"
   ]
  },
  {
   "cell_type": "code",
   "execution_count": 7,
   "metadata": {},
   "outputs": [],
   "source": [
    "#define x axis\n",
    "nfl_week = nfl_data.Week.unique()\n",
    "nfl_day = nfl_data.Day.unique()\n",
    "nfl_pos = nfl_data.Pos.unique()\n",
    "nfl_opp = nfl_data.Opp.unique()\n",
    "nfl_week.sort()\n",
    "nfl_day.sort()\n",
    "nfl_pos.sort()\n",
    "nfl_opp.sort()"
   ]
  },
  {
   "cell_type": "code",
   "execution_count": 8,
   "metadata": {},
   "outputs": [],
   "source": [
    "#define y axis"
   ]
  },
  {
   "cell_type": "code",
   "execution_count": 9,
   "metadata": {},
   "outputs": [],
   "source": [
    "#grouping data for plotting\n",
    "nfl_week_avg = nfl_data.groupby('Week')['Fantasy_Pts'].mean()\n",
    "nfl_pos_avg = nfl_data.groupby('Pos')['Fantasy_Pts'].mean()\n",
    "nfl_player_avg = nfl_data.groupby('Player')['Fantasy_Pts'].mean()\n",
    "nfl_day_avg = nfl_data.groupby('Day')['Fantasy_Pts'].mean()"
   ]
  },
  {
   "cell_type": "code",
   "execution_count": 10,
   "metadata": {},
   "outputs": [],
   "source": [
    "#grouping data for plotting\n",
    "nfl_week_std = nfl_data.groupby('Week')['Fantasy_Pts'].std()\n",
    "nfl_pos_std = nfl_data.groupby('Pos')['Fantasy_Pts'].std()\n",
    "nfl_player_std = nfl_data.groupby('Player')['Fantasy_Pts'].std()\n",
    "nfl_day_std = nfl_data.groupby('Day')['Fantasy_Pts'].std()"
   ]
  },
  {
   "cell_type": "code",
   "execution_count": 11,
   "metadata": {},
   "outputs": [],
   "source": [
    "#grouping data for plotting\n",
    "nfl_pos_week_avg = nfl_data.groupby(['Pos','Week'])['Fantasy_Pts'].mean()\n",
    "nfl_player_week_avg = nfl_data.groupby(['Player','Week'])['Fantasy_Pts'].mean()\n",
    "nfl_player_day_avg = nfl_data.groupby(['Player','Day'])['Fantasy_Pts'].mean()\n",
    "nfl_player_opp_avg = nfl_data.groupby(['Player','Opp'])['Fantasy_Pts'].mean()\n",
    "nfl_pos_week_std = nfl_data.groupby(['Pos','Week'])['Fantasy_Pts'].std()\n",
    "nfl_player_week_std = nfl_data.groupby(['Player','Week'])['Fantasy_Pts'].std()\n",
    "nfl_player_day_std = nfl_data.groupby(['Player','Day'])['Fantasy_Pts'].std()\n",
    "nfl_player_opp_std = nfl_data.groupby(['Player','Opp'])['Fantasy_Pts'].std()"
   ]
  },
  {
   "cell_type": "code",
   "execution_count": 12,
   "metadata": {
    "scrolled": true
   },
   "outputs": [
    {
     "data": {
      "image/png": "[encoded data removed]",
      "text/plain": [
       "<Figure size 432x288 with 1 Axes>"
      ]
     },
     "metadata": {
      "needs_background": "light"
     },
     "output_type": "display_data"
    }
   ],
   "source": [
    "fig1, ax1 = plt.subplots()\n",
    "ax1.bar(nfl_pos,nfl_pos_avg,yerr=nfl_pos_std,align='center',color =['red','blue','green','orange'],ecolor='black',capsize=10)\n",
    "ax1.set_ylabel('Average Fantasy Pts')\n",
    "ax1.set_xticks(nfl_pos)\n",
    "ax1.set_xticklabels(nfl_pos)\n",
    "ax1.set_xlabel('NFL Position')\n",
    "ax1.set_title('Average Fantasy Pts per Week by Position')\n",
    "ax1.yaxis.grid(True)\n",
    "\n",
    "plt.tight_layout()\n",
    "plt.show()"
   ]
  },
  {
   "cell_type": "code",
   "execution_count": 13,
   "metadata": {
    "scrolled": true
   },
   "outputs": [
    {
     "data": {
      "image/png": "[encoded data removed]",
      "text/plain": [
       "<Figure size 432x288 with 1 Axes>"
      ]
     },
     "metadata": {
      "needs_background": "light"
     },
     "output_type": "display_data"
    }
   ],
   "source": [
    "plt.plot(nfl_week_avg,'r')\n",
    "plt.ylabel('Average Fantasy Pts')\n",
    "plt.xlabel('NFL Week')\n",
    "plt.xticks(nfl_week)\n",
    "plt.ylim(0,9)\n",
    "plt.title('Average Fantasy Pts per Week by Week')\n",
    "\n",
    "plt.tight_layout()\n",
    "plt.show()"
   ]
  },
  {
   "cell_type": "code",
   "execution_count": 14,
   "metadata": {},
   "outputs": [
    {
     "data": {
      "image/png": "[encoded data removed]",
      "text/plain": [
       "<Figure size 432x288 with 1 Axes>"
      ]
     },
     "metadata": {
      "needs_background": "light"
     },
     "output_type": "display_data"
    }
   ],
   "source": [
    "plt.plot(nfl_day_avg,'r')\n",
    "plt.ylabel('Average Fantasy Pts')\n",
    "plt.xlabel('NFL Week')\n",
    "plt.xticks(nfl_day)\n",
    "plt.ylim(0,9)\n",
    "plt.title('Average Fantasy Pts per Week by Week')\n",
    "\n",
    "plt.tight_layout()\n",
    "plt.show()"
   ]
  },
  {
   "cell_type": "code",
   "execution_count": 16,
   "metadata": {},
   "outputs": [
    {
     "name": "stdout",
     "output_type": "stream",
     "text": [
      "Enter a NFL Player from 2010 to 2019: Peyton Manning\n"
     ]
    }
   ],
   "source": [
    "player1 = str(input(\"Enter a NFL Player from 2010 to 2019: \"))"
   ]
  },
  {
   "cell_type": "code",
   "execution_count": 17,
   "metadata": {},
   "outputs": [
    {
     "name": "stdout",
     "output_type": "stream",
     "text": [
      "Week to start at?: 1\n"
     ]
    }
   ],
   "source": [
    "filter_low = int(input(\"Week to start at?: \"))-1"
   ]
  },
  {
   "cell_type": "code",
   "execution_count": 18,
   "metadata": {},
   "outputs": [
    {
     "name": "stdout",
     "output_type": "stream",
     "text": [
      "Week to end at?: 17\n"
     ]
    }
   ],
   "source": [
    "filter_high = int(input(\"Week to end at?: \"))"
   ]
  },
  {
   "cell_type": "code",
   "execution_count": 19,
   "metadata": {
    "scrolled": true
   },
   "outputs": [
    {
     "data": {
      "image/png": "[encoded data removed]",
      "text/plain": [
       "<Figure size 432x288 with 1 Axes>"
      ]
     },
     "metadata": {
      "needs_background": "light"
     },
     "output_type": "display_data"
    }
   ],
   "source": [
    "x = nfl_week\n",
    "y = nfl_player_week_avg[player1.lower()][filter_low:filter_high].round(2)\n",
    "std = nfl_player_week_std[player1.lower()][filter_low:filter_high].round(2)\n",
    "\n",
    "fig2, ax2 = plt.subplots()\n",
    "ax2.bar(x,y,yerr=std,align='center',color='g',ecolor='black',capsize=10)\n",
    "ax2.set_ylabel('Average Fantasy Pts')\n",
    "ax2.set_xticks(x)\n",
    "ax2.set_xticklabels(x)\n",
    "ax2.set_xlabel('NFL Week')\n",
    "ax2.set_title(f'Average Fantasy Pts each Week by {player1}')\n",
    "ax2.yaxis.grid(True)\n",
    "\n",
    "plt.tight_layout()\n",
    "plt.show()"
   ]
  },
  {
   "cell_type": "code",
   "execution_count": null,
   "metadata": {},
   "outputs": [],
   "source": []
  },
  {
   "cell_type": "code",
   "execution_count": null,
   "metadata": {},
   "outputs": [],
   "source": []
  },
  {
   "cell_type": "code",
   "execution_count": null,
   "metadata": {},
   "outputs": [],
   "source": []
  },
  {
   "cell_type": "code",
   "execution_count": null,
   "metadata": {},
   "outputs": [],
   "source": []
  },
  {
   "cell_type": "code",
   "execution_count": null,
   "metadata": {},
   "outputs": [],
   "source": []
  },
  {
   "cell_type": "code",
   "execution_count": null,
   "metadata": {},
   "outputs": [],
   "source": []
  },
  {
   "cell_type": "code",
   "execution_count": null,
   "metadata": {},
   "outputs": [],
   "source": []
  },
  {
   "cell_type": "code",
   "execution_count": null,
   "metadata": {},
   "outputs": [],
   "source": []
  }
 ],
 "metadata": {
  "kernelspec": {
   "display_name": "Python 3",
   "language": "python",
   "name": "python3"
  },
  "language_info": {
   "codemirror_mode": {
    "name": "ipython",
    "version": 3
   },
   "file_extension": ".py",
   "mimetype": "text/x-python",
   "name": "python",
   "nbconvert_exporter": "python",
   "pygments_lexer": "ipython3",
   "version": "3.7.6"
  }
 },
 "nbformat": 4,
 "nbformat_minor": 4
}
