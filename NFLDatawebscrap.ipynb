{
 "cells": [
  {
   "cell_type": "code",
   "execution_count": null,
   "metadata": {},
   "outputs": [],
   "source": [
    "import pandas as pd\n",
    "from bs4 import BeautifulSoup\n",
    "from urllib import request\n",
    "\n",
    "page = 0\n",
    "url = 'https://www.pro-football-reference.com/play-index/pgl_finder.cgi?request=1&match=game&year_min=2010&year_max=2019&season_start=1&season_end=-1&pos%5B%5D=QB&pos%5B%5D=WR&pos%5B%5D=RB&pos%5B%5D=TE&pos%5B%5D=OL&is_starter=E&game_type=R&game_num_min=0&game_num_max=99&week_num_min=1&week_num_max=17&c1stat=rush_att&c1comp=gt&c1val=0&c2stat=punt_ret&c2comp=gt&c2val=0&c3stat=targets&c3comp=gt&c3val=0&c4stat=fumbles&c4comp=gt&c4val=0&c5stat=kick_ret&c5comp=gt&c5val=1&order_by=pass_yds&offset='"
   ]
  },
  {
   "cell_type": "code",
   "execution_count": null,
   "metadata": {},
   "outputs": [],
   "source": [
    "#73300\n",
    "while page < 73300:\n",
    "    page1 = str(page)\n",
    "    website = request.urlopen(url+page1).read()\n",
    "    soup = BeautifulSoup(website, 'lxml')\n",
    "\n",
    "    table = soup.find('table', attrs={'class': 'sortable', 'id': 'results'})\n",
    "\n",
    "    table_headers = [header.text for header in table.find('thead').find_all('th')]\n",
    "    table_rows = table.find_all('tr')\n",
    "\n",
    "    final_data = []\n",
    "    for tr in table_rows:\n",
    "        td = tr.find_all('td')\n",
    "        row = [tr.text for tr in td]\n",
    "        final_data.append(row)\n",
    "    df = pd.DataFrame(final_data, columns=table_headers[8:])\n",
    "    df.to_csv('nfldata.csv',mode='a',header=False)\n",
    "    page += 100"
   ]
  },
  {
   "cell_type": "code",
   "execution_count": null,
   "metadata": {},
   "outputs": [],
   "source": []
  },
  {
   "cell_type": "code",
   "execution_count": null,
   "metadata": {},
   "outputs": [],
   "source": []
  },
  {
   "cell_type": "code",
   "execution_count": null,
   "metadata": {},
   "outputs": [],
   "source": []
  },
  {
   "cell_type": "code",
   "execution_count": null,
   "metadata": {},
   "outputs": [],
   "source": []
  },
  {
   "cell_type": "code",
   "execution_count": null,
   "metadata": {},
   "outputs": [],
   "source": []
  },
  {
   "cell_type": "code",
   "execution_count": null,
   "metadata": {},
   "outputs": [],
   "source": []
  },
  {
   "cell_type": "code",
   "execution_count": null,
   "metadata": {},
   "outputs": [],
   "source": []
  },
  {
   "cell_type": "code",
   "execution_count": null,
   "metadata": {},
   "outputs": [],
   "source": []
  },
  {
   "cell_type": "code",
   "execution_count": null,
   "metadata": {},
   "outputs": [],
   "source": []
  },
  {
   "cell_type": "code",
   "execution_count": null,
   "metadata": {},
   "outputs": [],
   "source": []
  }
 ],
 "metadata": {
  "kernelspec": {
   "display_name": "Python 3",
   "language": "python",
   "name": "python3"
  },
  "language_info": {
   "codemirror_mode": {
    "name": "ipython",
    "version": 3
   },
   "file_extension": ".py",
   "mimetype": "text/x-python",
   "name": "python",
   "nbconvert_exporter": "python",
   "pygments_lexer": "ipython3",
   "version": "3.7.6"
  }
 },
 "nbformat": 4,
 "nbformat_minor": 4
}
